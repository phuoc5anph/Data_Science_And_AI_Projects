{
  "cells": [
    {
      "cell_type": "markdown",
      "metadata": {
        "id": "hEZi_v2BOtKZ"
      },
      "source": [
        "## Lấy dữ liệu từ API Reddit"
      ]
    },
    {
      "cell_type": "code",
      "execution_count": null,
      "metadata": {
        "id": "FWBW8JziOtKf"
      },
      "outputs": [],
      "source": [
        "import praw\n",
        "import re\n",
        "\n",
        "# Kiểm tra xem có chứa link không\n",
        "def contains_link(text):\n",
        "    url_regex = re.compile(\n",
        "        r'http[s]?://(?:[a-zA-Z]|[0-9]|[$-_@.&+]|[!*\\\\(\\\\),]|(?:%[0-9a-fA-F][0-9a-fA-F]))+'\n",
        "    )\n",
        "    if url_regex.search(text):\n",
        "        return True\n",
        "    return False\n",
        "\n",
        "# key của tài khoản\n",
        "reddit = praw.Reddit(\n",
        "    client_id=\"iiOdeRiSgfo5Q1bxICVbvg\",\n",
        "    client_secret=\"EVIhk_BskOWSC3Z9cdp_270CVs9aSQ\",\n",
        "    user_agent=\"script by r/LuanLaThangOcCho\"\n",
        ")\n",
        "\n",
        "\n",
        "comments = []\n",
        "# Tìm kiếm chủ đề r/Bitcoin, Daily Discussion là các bài post thảo luận về tình hình bitcoin hằng ngày\n",
        "posts = reddit.subreddit(\"Bitcoin\").search(\"Daily Discussion\", sort=\"comments\", limit=1000)\n",
        "\n",
        "for post in posts:\n",
        "    # Lấy nội dung bình luận của các bài post, chỉ lấy bình luận ở cấp độ thứ nhất\n",
        "    post.comments.replace_more(limit=0)\n",
        "    for i, cmt in enumerate(post.comments.list()):\n",
        "        if i > 300:\n",
        "            break\n",
        "        if not contains_link(cmt.body):\n",
        "            comments.append([cmt.body.replace(\"\\n\", \" \"), cmt.created_utc, cmt.score])\n",
        "\n",
        "\n",
        "import pandas as pd\n",
        "\n",
        "df = pd.DataFrame(comments, columns=[\"comment\", \"created_time\", \"score\"])\n",
        "df.to_csv('70k_Bitcoin_Comments.csv', index=False)"
      ]
    }
  ],
  "metadata": {
    "kernelspec": {
      "display_name": "Python 3",
      "language": "python",
      "name": "python3"
    },
    "language_info": {
      "codemirror_mode": {
        "name": "ipython",
        "version": 3
      },
      "file_extension": ".py",
      "mimetype": "text/x-python",
      "name": "python",
      "nbconvert_exporter": "python",
      "pygments_lexer": "ipython3",
      "version": "3.11.3"
    },
    "colab": {
      "provenance": []
    }
  },
  "nbformat": 4,
  "nbformat_minor": 0
}
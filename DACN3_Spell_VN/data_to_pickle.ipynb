{
 "cells": [
  {
   "cell_type": "code",
   "execution_count": 1,
   "id": "5af6f2117b292726",
   "metadata": {
    "collapsed": false,
    "is_executing": true,
    "jupyter": {
     "outputs_hidden": false
    }
   },
   "outputs": [],
   "source": [
    "import re\n",
    "import numpy as np\n",
    "import pickle\n",
    "import os"
   ]
  },
  {
   "cell_type": "code",
   "execution_count": 2,
   "id": "initial_id",
   "metadata": {},
   "outputs": [],
   "source": [
    "class FileData(object):\n",
    "    def __init__(self, path):\n",
    "        self.path = path\n",
    "        with open(path, encoding='utf-16') as f:\n",
    "          self.data = f.read()"
   ]
  },
  {
   "cell_type": "code",
   "execution_count": 3,
   "id": "87dda11246da0fa9",
   "metadata": {
    "collapsed": false,
    "jupyter": {
     "outputs_hidden": false
    }
   },
   "outputs": [],
   "source": [
    "ABSOLUTE_PATH = r\"data\\Test_Full\""
   ]
  },
  {
   "cell_type": "code",
   "execution_count": 4,
   "id": "47afc3b0c46a8dba",
   "metadata": {
    "collapsed": false,
    "jupyter": {
     "outputs_hidden": false
    }
   },
   "outputs": [],
   "source": [
    "c_tri =  \"\\Chinh tri Xa hoi\"\n",
    "\n",
    "d_song = \"\\Doi song\"\n",
    "\n",
    "khoa_hoc = \"\\Khoa hoc\"\n",
    "\n",
    "kinh_doanh = \"\\Kinh doanh\"\n",
    "\n",
    "p_luat = \"\\Phap luat\"\n",
    "\n",
    "suc_khoe = \"\\Suc khoe\"\n",
    "\n",
    "the_gioi = \"\\The gioi\"\n",
    "\n",
    "the_thao = \"\\The thao\"\n",
    "\n",
    "van_hoa = \"\\Van hoa\"\n",
    "\n",
    "vi_tinh = \"\\Vi tinh\""
   ]
  },
  {
   "cell_type": "code",
   "execution_count": 5,
   "id": "b74ccd28504d9f59",
   "metadata": {
    "collapsed": false,
    "jupyter": {
     "outputs_hidden": false
    }
   },
   "outputs": [],
   "source": [
    "corpus = [c_tri, d_song, khoa_hoc, kinh_doanh, p_luat, suc_khoe, the_gioi, the_thao, van_hoa, vi_tinh]"
   ]
  },
  {
   "cell_type": "code",
   "execution_count": 6,
   "id": "e53cb92be063ee",
   "metadata": {
    "collapsed": false,
    "jupyter": {
     "outputs_hidden": false
    }
   },
   "outputs": [],
   "source": [
    "for folder_path in range(len(corpus)):\n",
    "    corpus[folder_path] = ABSOLUTE_PATH + corpus[folder_path]"
   ]
  },
  {
   "cell_type": "code",
   "execution_count": 7,
   "id": "5b1bacec8c7aedc5",
   "metadata": {
    "collapsed": false,
    "jupyter": {
     "outputs_hidden": false
    }
   },
   "outputs": [
    {
     "data": {
      "text/plain": [
       "'data\\\\Test_Full\\\\Khoa hoc'"
      ]
     },
     "execution_count": 7,
     "metadata": {},
     "output_type": "execute_result"
    }
   ],
   "source": [
    "corpus[2]"
   ]
  },
  {
   "cell_type": "code",
   "execution_count": 8,
   "id": "6841b4556704855c",
   "metadata": {
    "ExecuteTime": {
     "start_time": "2024-05-13T08:03:27.485182Z"
    },
    "collapsed": false,
    "is_executing": true,
    "jupyter": {
     "outputs_hidden": false
    }
   },
   "outputs": [],
   "source": [
    "file_list = []\n",
    "#count = 0\n",
    "\n",
    "for folder_path in corpus:\n",
    "    count = 0\n",
    "    for name in os.listdir(folder_path):\n",
    "        count +=1\n",
    "        if count == 1500:\n",
    "          break\n",
    "        path = os.path.join(folder_path, name)\n",
    "        if not os.path.isfile(path):\n",
    "            continue\n",
    "        file = FileData(path)\n",
    "        file_list.append( file.data )\n",
    "        # count +=1\n",
    "        # if count == 5:\n",
    "        #   break"
   ]
  },
  {
   "cell_type": "code",
   "execution_count": 9,
   "id": "f9cedf01da6f4af5",
   "metadata": {
    "collapsed": false,
    "is_executing": true,
    "jupyter": {
     "outputs_hidden": false
    }
   },
   "outputs": [
    {
     "data": {
      "text/plain": [
       "14990"
      ]
     },
     "execution_count": 9,
     "metadata": {},
     "output_type": "execute_result"
    }
   ],
   "source": [
    "len(file_list)"
   ]
  },
  {
   "cell_type": "code",
   "execution_count": 10,
   "id": "7b00dff6bcedb3fe",
   "metadata": {
    "collapsed": false,
    "is_executing": true,
    "jupyter": {
     "outputs_hidden": false
    }
   },
   "outputs": [],
   "source": [
    "path_corpus = 'data/VNTC_data_test.pkl'\n",
    "\n",
    "with open(path_corpus, 'wb') as pickle_file:\n",
    "    pickle.dump(file_list, pickle_file)"
   ]
  },
  {
   "cell_type": "code",
   "execution_count": null,
   "id": "8e0a7294-7ca0-4bfc-9e43-2d97fb636ff4",
   "metadata": {},
   "outputs": [],
   "source": []
  }
 ],
 "metadata": {
  "kernelspec": {
   "display_name": "Python 3 (ipykernel)",
   "language": "python",
   "name": "python3"
  },
  "language_info": {
   "codemirror_mode": {
    "name": "ipython",
    "version": 3
   },
   "file_extension": ".py",
   "mimetype": "text/x-python",
   "name": "python",
   "nbconvert_exporter": "python",
   "pygments_lexer": "ipython3",
   "version": "3.11.7"
  }
 },
 "nbformat": 4,
 "nbformat_minor": 5
}
